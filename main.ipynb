{
 "cells": [
  {
   "cell_type": "code",
   "execution_count": null,
   "metadata": {},
   "outputs": [],
   "source": [
    "import datetime\n",
    "from webdriver import get_chrome_driver\n",
    "from youtube import crawl_youtube_comments, get_video_titles_URLs\n",
    "from utils import Time\n",
    "from pandas import DataFrame\n",
    "\n",
    "# 비디오당 최대 댓글 수\n",
    "max_comments_per_video = 100    \n",
    "\n",
    "# 찾고자 하는 비디오 제목, 링크, 댓글 블록, 댓글의 HTML에서의 위치\n",
    "selector_video_title = '#video-title'\n",
    "selector_comment = '#content-text'\n",
    "\n",
    "day = datetime.date.today().strftime('%y%m%d')\n",
    "save_path = f'data/YT_cmts_{day}.txt'\n",
    "\n",
    "URL_list = {\n",
    "    'Music': 'https://www.youtube.com/feed/trending?bp=4gINGgt5dG1hX2NoYXJ0cw%3D%3D',\n",
    "    'Gaming': 'https://www.youtube.com/feed/trending?bp=4gIcGhpnYW1pbmdfY29ycHVzX21vc3RfcG9wdWxhcg%3D%3D',\n",
    "    'Movies': 'https://www.youtube.com/feed/trending?bp=4gIKGgh0cmFpbGVycw%3D%3D',\n",
    "}\n",
    "URL = URL_list['Music'] # 카테고리를 바꿔 시도해 보세요"
   ]
  },
  {
   "cell_type": "code",
   "execution_count": null,
   "metadata": {},
   "outputs": [],
   "source": [
    "driver = get_chrome_driver(headless=False)\n",
    "urls, titles = get_video_titles_URLs(driver, selector_video_title, URL, location='한국')\n",
    "driver.quit()\n",
    "\n",
    "# Pandas를 사용해 데이터를 표로 출력\n",
    "df = DataFrame({'Title': titles, 'URL': urls})\n",
    "styles = [\n",
    "    {'selector': 'th', 'props': [('text-align', 'left')]},   # Header\n",
    "    {'selector': 'td', 'props': [('text-align', 'left')]}    # Data cells\n",
    "]\n",
    "styled = df.style.set_table_styles(styles)\n",
    "display(styled)"
   ]
  },
  {
   "cell_type": "code",
   "execution_count": null,
   "metadata": {},
   "outputs": [],
   "source": [
    "start_time = Time.now()\n",
    "\n",
    "driver = get_chrome_driver(headless=False)\n",
    "crawl_youtube_comments(driver, urls, titles, selector_comment, save_path, max_comments_per_video, start_time)\n",
    "driver.quit()\n",
    "\n",
    "print('소요 시간: ' + Time.str_delta(start_time))"
   ]
  },
  {
   "cell_type": "code",
   "execution_count": null,
   "metadata": {},
   "outputs": [],
   "source": [
    "import matplotlib.pyplot as plt\n",
    "\n",
    "plt.rcParams[\"font.family\"] = \"NanumGothic\"\n",
    "plt.rcParams[\"font.size\"] = 15\n",
    "\n",
    "\n",
    "# 한글 폰트 적용되었나 테스트 (깨진다면 Restart session 필요)\n",
    "plt.text(0.2, 0.3, '한글', size=100) "
   ]
  },
  {
   "cell_type": "code",
   "execution_count": null,
   "metadata": {},
   "outputs": [],
   "source": [
    "from konlpy.tag import Okt\n",
    "from konlpy.corpus import kolaw, kobill\n",
    "from nltk import Text\n",
    "import datetime\n",
    "from utils.visualize import plot_frequency_chart, draw_word_cloud\n",
    "\n",
    "\n",
    "print('명사 추출 중...')\n",
    "day = datetime.date.today().strftime('%y%m%d')\n",
    "save_path = f'data/YT_cmts_{day}.txt'\n",
    "corpus = open(save_path, encoding='utf-8').read()[:100_000] # 100,000 글자만 분석 (슬라이싱 코드 지우면 전부 분석)\n",
    "\n",
    "# 다른 예제 말뭉치\n",
    "# corpus = kolaw.open('./constitution.txt').read() # 위 코드를 주석 처리하고 corpus를 바꿔보세요\n",
    "# corpus = kobill.open('./1809890.txt').read()\n",
    "\n",
    "words = Text(Okt().nouns(corpus))\n",
    "plot_frequency_chart(words, top_n=30)\n",
    "draw_word_cloud(words, font_path='./source/font/주아체.ttf')"
   ]
  }
 ],
 "metadata": {
  "kernelspec": {
   "display_name": "deep-learning",
   "language": "python",
   "name": "python3"
  },
  "language_info": {
   "codemirror_mode": {
    "name": "ipython",
    "version": 3
   },
   "file_extension": ".py",
   "mimetype": "text/x-python",
   "name": "python",
   "nbconvert_exporter": "python",
   "pygments_lexer": "ipython3",
   "version": "3.10.4"
  }
 },
 "nbformat": 4,
 "nbformat_minor": 2
}
